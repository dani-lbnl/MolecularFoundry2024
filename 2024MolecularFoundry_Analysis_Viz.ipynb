{
  "cells": [
    {
      "cell_type": "markdown",
      "metadata": {
        "id": "zQX_pbrqp4dD"
      },
      "source": [
        "# Molecular Foundry User Meeting 2024\n",
        "This notebook describes how to explore of image stacks\n",
        " 1. Reading large volumes 📚\n",
        " 2. Image enhancing techniques 💎\n",
        " 3. Thresholding techniques ☯\n",
        " 4. Visualization 🧿\n",
        "\n",
        "Created by Dani Ushizima, CAMERA, LBNL - Jul 1st 2024\n"
      ]
    },
    {
      "cell_type": "markdown",
      "metadata": {
        "id": "Ju9Jt2qExpMM"
      },
      "source": [
        "🪨 Motivation behind data 🔬\n",
        "- **nanoCT**: basalt rock sample\n",
        "- **why**? Basalt rock samples are highly relevant to the sequestration of atmospheric CO2 through a process known as mineral carbonation\n",
        "- *courtesy: Arun Bhattacharjee*"
      ]
    },
    {
      "cell_type": "code",
      "execution_count": 1,
      "metadata": {
        "id": "ljQkOVVBp4dr"
      },
      "outputs": [],
      "source": [
        "%matplotlib inline"
      ]
    },
    {
      "cell_type": "code",
      "source": [
        "import numpy as np\n",
        "\n",
        "import matplotlib.pyplot as plt\n",
        "\n",
        "from skimage import img_as_ubyte, filters, morphology, io\n",
        "from skimage.filters import threshold_isodata\n",
        "\n",
        "from glob import glob\n",
        "from sys import getsizeof\n",
        "import fnmatch,os"
      ],
      "metadata": {
        "id": "lgnr75WEeMPH"
      },
      "execution_count": 2,
      "outputs": []
    },
    {
      "cell_type": "markdown",
      "metadata": {
        "id": "h2gAaRFMp4dt"
      },
      "source": [
        "# 1.Read an image stack 📚\n",
        "- from Google drive"
      ]
    },
    {
      "cell_type": "code",
      "execution_count": null,
      "metadata": {
        "id": "f3droixgrA42"
      },
      "outputs": [],
      "source": [
        "from google.colab import drive\n",
        "drive.mount('/content/drive')"
      ]
    },
    {
      "cell_type": "code",
      "execution_count": null,
      "metadata": {
        "id": "DaHyN6AcuMxD"
      },
      "outputs": [],
      "source": [
        "datapath = \"/content/drive/My Drive/Colab Notebooks/tutorial/2024_microCT_tutorial/data/\" #change to your data path\n",
        "!ls -lt \"$datapath\""
      ]
    },
    {
      "cell_type": "code",
      "execution_count": null,
      "metadata": {
        "id": "1NTjhSoXsoeP"
      },
      "outputs": [],
      "source": [
        "\n",
        "nanopath = datapath + \"rock_nanoCT/\" #change to your data path"
      ]
    },
    {
      "cell_type": "code",
      "execution_count": null,
      "metadata": {
        "id": "_ql1Scems3Qb"
      },
      "outputs": [],
      "source": [
        "def count_files_and_size(directory):\n",
        "  \"\"\"Counts the number of files and total size in a directory.\n",
        "  \"\"\"\n",
        "  total_size = 0\n",
        "  for filename in os.listdir(directory):\n",
        "    filepath = os.path.join(directory, filename)\n",
        "    if os.path.isfile(filepath):\n",
        "      total_size += os.path.getsize(filepath)\n",
        "  num_files = len(glob(directory + \"/*\"))\n",
        "  total_size = round(total_size / 1024 / 1024, 2)\n",
        "  print(f\"Number of files in directory: {num_files}\")\n",
        "  print(f\"Total size of files in directory: {total_size} MB\")\n",
        "  #return num_files, round(total_size / 1024 / 1024, 2)\n"
      ]
    },
    {
      "cell_type": "code",
      "execution_count": null,
      "metadata": {
        "id": "QSeXmJ5ts4Wu"
      },
      "outputs": [],
      "source": [
        "count_files_and_size(nanopath)"
      ]
    },
    {
      "cell_type": "code",
      "execution_count": null,
      "metadata": {
        "id": "JS3LVPtktEnG"
      },
      "outputs": [],
      "source": [
        "#Load all file names\n",
        "files = glob(nanopath+'*')\n",
        "files.sort()\n"
      ]
    },
    {
      "cell_type": "code",
      "execution_count": null,
      "metadata": {
        "id": "vCyRv4tziN8C"
      },
      "outputs": [],
      "source": [
        "#Describe importante info of an image\n",
        "def describe_image(image):\n",
        "  print('-----------------------------------------------------------------------')\n",
        "  print('Image shape is ',image.shape)\n",
        "  print(\"Image size in mem: {}MB\".format(round(getsizeof(image) / 1024 / 1024,2)))\n",
        "  print('@CenterSlice: min=',image.min(),',mean=',np.around(image.mean(),decimals=2),',max=',image.max())\n",
        "  print('dtype = ',image.dtype)\n",
        "  print('-----------------------------------------------------------------------')"
      ]
    },
    {
      "cell_type": "code",
      "execution_count": null,
      "metadata": {
        "id": "6wUSe4qFibyk"
      },
      "outputs": [],
      "source": [
        "image = io.imread(files[0])"
      ]
    },
    {
      "cell_type": "code",
      "execution_count": null,
      "metadata": {
        "id": "F7nSYFuuQ3SD"
      },
      "outputs": [],
      "source": [
        "describe_image(image)\n",
        "plt.imshow(image,cmap='gray')\n",
        "plt.title('Slice #0 - full resolution')\n"
      ]
    },
    {
      "cell_type": "markdown",
      "metadata": {
        "id": "4wwAguV8riFP"
      },
      "source": [
        "## 1.1. Quick visualizations\n",
        "- one slice at a time\n",
        "- equally spaced slices\n",
        "- downsample\n",
        "- montage\n",
        "- plotly"
      ]
    },
    {
      "cell_type": "code",
      "execution_count": null,
      "metadata": {
        "id": "dYnq4R39rRLq"
      },
      "outputs": [],
      "source": [
        "def montage(path,extension=\"*.tif*\",downsample=10,save=False):\n",
        "        '''Create montage 3x3\n",
        "        '''\n",
        "        files = glob(nanopath+extension)\n",
        "        files.sort()\n",
        "        nfiles = len(files)\n",
        "        fig, axes = plt.subplots(3, 3, figsize=(10, 10))\n",
        "        #Plotting subset of slices evenly spaced\n",
        "        islices = np.linspace(0,nfiles-1,9,dtype=int)\n",
        "        islices = islices.astype(int)\n",
        "        for i, n in enumerate(islices):\n",
        "            img = io.imread(files[n])\n",
        "            img = img[::downsample,::downsample]\n",
        "            xy = np.unravel_index(i, (3,3))\n",
        "            axes[xy].imshow(img,cmap='gray')\n",
        "            axes[xy].set_title('Slice %i'% n)\n",
        "            axes[xy].set_axis_off()\n",
        "            #fig.subplots_adjust( wspace = -0.1,  hspace = 0.1 )\n",
        "        if(save):\n",
        "            fig.savefig(path+'MyMontage.png')\n",
        "            print('Saved@ '+path+'MyMontage.png')"
      ]
    },
    {
      "cell_type": "code",
      "execution_count": null,
      "metadata": {
        "id": "4erJG_MQrW6i"
      },
      "outputs": [],
      "source": [
        "# quick pick at 32 GB experiment\n",
        "montage(nanopath)"
      ]
    },
    {
      "cell_type": "code",
      "execution_count": null,
      "metadata": {
        "id": "ol0ww9s1ryTf"
      },
      "outputs": [],
      "source": [
        "import plotly.express as px\n",
        "from skimage import io\n",
        "\n",
        "def create_image_animation(fnames, downsample=10, nframes=10):\n",
        "    \"\"\"\n",
        "    Create an animated plot of images, evenly spaced and downsampled.\n",
        "    \"\"\"\n",
        "    nfiles = len(fnames)\n",
        "\n",
        "    if nfiles > nframes:\n",
        "        # Select indices for evenly z-spaced images\n",
        "        islices = np.linspace(0, nfiles - 1, num=nframes, dtype=int)\n",
        "\n",
        "        # Load and downsample images\n",
        "        limg = []\n",
        "        for n in islices:\n",
        "            img = io.imread(fnames[n])\n",
        "            img_downsampled = img[::downsample, ::downsample]\n",
        "            limg.append(img_downsampled)\n",
        "\n",
        "        # Stack the images for animation if not empty\n",
        "        if limg:\n",
        "            vimg = np.stack(limg)\n",
        "            fig = px.imshow(vimg, animation_frame=0, labels=dict(animation_frame=\"Image Index\"))\n",
        "            fig.update_layout(height=600)  # Adjust layout as needed\n",
        "            fig.show()\n",
        "        else:\n",
        "            print(\"No images loaded or downsampled images are empty.\")\n",
        "    else:\n",
        "        print('Not enough files - change nframes or provide more files.')\n",
        "    return limg\n"
      ]
    },
    {
      "cell_type": "code",
      "execution_count": null,
      "metadata": {
        "id": "lcmUXUaJr7Aj"
      },
      "outputs": [],
      "source": [
        "#Create animation and return a list with nframes across stack\n",
        "listImg = create_image_animation(files)"
      ]
    },
    {
      "cell_type": "markdown",
      "metadata": {
        "id": "z9lrlzAEsDyA"
      },
      "source": [
        "##1.2.Check histogram\n",
        "- what's the range?\n",
        "- are the intensity levels uniform across slices?"
      ]
    },
    {
      "cell_type": "code",
      "execution_count": null,
      "metadata": {
        "id": "OhPZYYVBr_mS"
      },
      "outputs": [],
      "source": [
        "from ipywidgets import interact, IntSlider\n",
        "from IPython.display import clear_output\n",
        "\n",
        "def seeHistSlice(img, nslice):\n",
        "    '''Interactively choose a particular slice and see the histogram\n",
        "    '''\n",
        "    clear_output(wait=True)  # Clear the output to avoid stacking plots\n",
        "    subimage = img[nslice, :, :]\n",
        "    hist, bins = np.histogram(subimage, bins=50)  # Adjust bins or range as needed\n",
        "\n",
        "    fig, ax = plt.subplots(ncols=2, figsize=(12, 5))  # Adjust figure size as needed\n",
        "\n",
        "    # Image display\n",
        "    ax[0].imshow(subimage, interpolation='nearest', cmap=plt.cm.gray)\n",
        "    ax[0].axis('off')\n",
        "    ax[0].set_title('Slice #' + str(nslice))\n",
        "\n",
        "    # Histogram display\n",
        "    ax[1].bar(bins[:-1], hist, width=np.diff(bins), edgecolor='black', align='edge')\n",
        "    ax[1].set_title('Histogram of gray values')\n",
        "    ax[1].grid(True)\n",
        "    plt.tight_layout()\n",
        "    plt.show()\n",
        "\n",
        "def slicingHist(img_stack):\n",
        "    def slicer(z):\n",
        "        seeHistSlice(img_stack, z)\n",
        "    interact(slicer, z=IntSlider(min=0, max=len(img_stack)-1, step=1, value=len(img_stack)//2), description='Slice Index')\n"
      ]
    },
    {
      "cell_type": "code",
      "execution_count": null,
      "metadata": {
        "id": "GNSbvWXnsYH5"
      },
      "outputs": [],
      "source": [
        "fullstack = np.stack(listImg)\n",
        "slicingHist(fullstack)"
      ]
    },
    {
      "cell_type": "markdown",
      "metadata": {
        "id": "NFZQZ_C7CsAG"
      },
      "source": [
        "# 2.Image enhancing techniques 💎\n",
        "- denoising: median, bilateral\n",
        "- sharpening\n",
        "- morphological operators\n",
        "- differential operators"
      ]
    },
    {
      "cell_type": "code",
      "execution_count": null,
      "metadata": {
        "id": "7fYvlWof_XY8"
      },
      "outputs": [],
      "source": [
        "def imshowcmp(before,after,lut='plasma'):\n",
        "    '''Show 2 images side by side'''\n",
        "    f, ax = plt.subplots(1, 2, figsize=(10, 10))\n",
        "    ax[0].imshow(before,cmap=lut)\n",
        "    ax[0].set_title('before')\n",
        "    ax[1].imshow(after,cmap=lut)\n",
        "    ax[1].set_title('after')"
      ]
    },
    {
      "cell_type": "markdown",
      "metadata": {
        "id": "OrC_Y1--hMu8"
      },
      "source": [
        "### 2.1.Filtering techniques to improve segmentation"
      ]
    },
    {
      "cell_type": "code",
      "source": [
        "#select one slice and either downsample or crop to a small matrix\n",
        "downsample = 10\n",
        "aslice = image[::10,::10] #downsampling"
      ],
      "metadata": {
        "id": "BbCyhBO7jAXH"
      },
      "execution_count": null,
      "outputs": []
    },
    {
      "cell_type": "code",
      "execution_count": null,
      "metadata": {
        "id": "HGlNC9PpERYL"
      },
      "outputs": [],
      "source": [
        "# MEDIAN\n",
        "selem = morphology.diamond(3)\n",
        "medianImage = filters.median(aslice,selem)\n",
        "imshowcmp(aslice,medianImage,'gray')"
      ]
    },
    {
      "cell_type": "code",
      "execution_count": null,
      "metadata": {
        "id": "kB6YwIa5EO1Y"
      },
      "outputs": [],
      "source": [
        "# CONTRAST ENHANCEMENT\n",
        "sharpImage = filters.unsharp_mask(aslice, radius=20, amount=1)\n",
        "imshowcmp(aslice,sharpImage,'gray')"
      ]
    },
    {
      "cell_type": "code",
      "execution_count": null,
      "metadata": {
        "id": "kcIuOkbLVxBT"
      },
      "outputs": [],
      "source": [
        "# MORPHOLOGICAL OPERATORS\n",
        "dilatImage = morphology.dilation(aslice,selem)\n",
        "imshowcmp(aslice,dilatImage,'gray')"
      ]
    },
    {
      "cell_type": "code",
      "execution_count": null,
      "metadata": {
        "id": "WoleOjJRERcz"
      },
      "outputs": [],
      "source": [
        "#This will give you an error if image doesn't have pixel depth = 8:\n",
        "# Possible precision loss converting image of type float32 to uint8 as required by rank filters.\n",
        "#  Convert manually using skimage.util.img_as_ubyte to silence this warning.\n",
        "\n",
        "bilatImage = filters.rank.mean_bilateral(aslice,selem)\n",
        "imshowcmp(aslice,bilatImage,'gray')"
      ]
    },
    {
      "cell_type": "code",
      "execution_count": null,
      "metadata": {
        "id": "OlGtZAzXEx6n"
      },
      "outputs": [],
      "source": [
        "# If your image is not in the range\n",
        "#Normalize the image to the range [0, 1], then turn into uint8, then apply filter\n",
        "aslice_normalized = (aslice - aslice.min()) / (aslice.max() - aslice.min())\n",
        "aslice_normalized = img_as_ubyte(aslice_normalized)\n",
        "bilatImage = filters.rank.mean_bilateral(aslice_normalized,selem)\n",
        "imshowcmp(aslice,bilatImage,'gray')\n"
      ]
    },
    {
      "cell_type": "code",
      "execution_count": null,
      "metadata": {
        "id": "_ScNA_Lo_ZU8"
      },
      "outputs": [],
      "source": [
        "# EDGE DETECTION\n",
        "sobelImage = filters.sobel(aslice)\n",
        "imshowcmp(aslice,sobelImage,'gray')"
      ]
    },
    {
      "cell_type": "markdown",
      "metadata": {
        "id": "i9rkfOe8ym3n"
      },
      "source": [
        "# 3.Thresholding for segmentation ☯\n",
        "- rough partition of image if bimodal\n",
        "- useful:\n",
        "  - for visualization\n",
        "  - for annotating data before ML\n"
      ]
    },
    {
      "cell_type": "code",
      "execution_count": null,
      "metadata": {
        "id": "69j1Mfi2mnWd"
      },
      "outputs": [],
      "source": [
        "t= filters.try_all_threshold(aslice, figsize=(8,8), verbose=False)\n",
        "#plt.savefig(\"thresholdAll.png\", bbox_inches='tight')"
      ]
    },
    {
      "cell_type": "markdown",
      "metadata": {
        "id": "aDxoDsLRjyuF"
      },
      "source": [
        "## Combining operators"
      ]
    },
    {
      "cell_type": "code",
      "execution_count": null,
      "metadata": {
        "id": "s6eaggU2w1Ui"
      },
      "outputs": [],
      "source": [
        "import numpy as np\n",
        "\n",
        "def circular_crop(image, center, radius):\n",
        "  \"\"\"\n",
        "  Crops a circular region from an image, filling the outside with black.\n",
        "\n",
        "  Args:\n",
        "    image: The input image as a NumPy array.\n",
        "    center: A tuple (x, y) specifying the center of the circle.\n",
        "    radius: The radius of the circle.\n",
        "\n",
        "  Returns:\n",
        "    The cropped image as a NumPy array.\n",
        "  \"\"\"\n",
        "\n",
        "  x, y = np.indices(image.shape)\n",
        "  distance_from_center = np.sqrt((x - center[0])**2 + (y - center[1])**2)\n",
        "  mask = distance_from_center <= radius\n",
        "\n",
        "  cropped_image = np.zeros_like(image)\n",
        "  cropped_image[mask] = image[mask]\n",
        "\n",
        "  return cropped_image\n"
      ]
    },
    {
      "cell_type": "code",
      "execution_count": null,
      "metadata": {
        "id": "5MB1Ot8bjw8u"
      },
      "outputs": [],
      "source": [
        "# Creating a fast segmentation algorithm\n",
        "from scipy.ndimage import binary_fill_holes\n",
        "\n",
        "aslice = image\n",
        "img2 = filters.median(aslice, morphology.diamond(3))\n",
        "t=filters.threshold_isodata(img2) #calculates the threshold\n",
        "binary = img2>t #apply to image\n",
        "binary = morphology.closing(binary,selem)\n",
        "binary = morphology.remove_small_objects(binary, 100)\n",
        "binary = binary_fill_holes(binary)\n",
        "binary = circular_crop(binary, (1024, 1024), 750)\n",
        "\n",
        "imshowcmp(aslice,binary,'gray')"
      ]
    },
    {
      "cell_type": "markdown",
      "metadata": {
        "id": "b2TKEKnm2wAT"
      },
      "source": [
        "#4.Volumetric visualization 🧿\n",
        "📣 Learn about you data first: 📣\n",
        "* size\n",
        "* pixel depth\n",
        "* most relevant slices\n",
        "* what to look first, e.g., general view to detail"
      ]
    },
    {
      "cell_type": "markdown",
      "source": [
        "<font color=\"blue\">\n",
        "So what did we learn:\n",
        "a) 32 GB, so downsample\n",
        "b) cylinder around, so mask it out to see inside\n",
        "c) 30% of bottom slices are less relevant\n",
        "</font>\n"
      ],
      "metadata": {
        "id": "KmI5VXGPk3rT"
      }
    },
    {
      "cell_type": "code",
      "source": [
        "def fastSegmentation(aslice,center=(10,10), radius=10):\n",
        "  img2 = filters.median(aslice, morphology.diamond(3))\n",
        "  t=filters.threshold_isodata(img2) #calculates the threshold\n",
        "  binary = img2>t #apply to image\n",
        "  binary = morphology.closing(binary,selem)\n",
        "  binary = morphology.remove_small_objects(binary, 100)\n",
        "  binary = binary_fill_holes(binary)\n",
        "  binary = circular_crop(binary, center, radius)\n",
        "  return binary"
      ],
      "metadata": {
        "id": "wojM6XCer0d9"
      },
      "execution_count": null,
      "outputs": []
    },
    {
      "cell_type": "code",
      "execution_count": null,
      "metadata": {
        "id": "Tnxl9wF00pqY"
      },
      "outputs": [],
      "source": [
        "import plotly.express as px\n",
        "from skimage import io\n",
        "\n",
        "def readStack(fnames, downsample=10, nframes=20, center=(10,10), radius=10, segmented=False):\n",
        "    \"\"\"\n",
        "    Read a subset of stack slices evenly spaced, downsampled and cropped by circle.\n",
        "    \"\"\"\n",
        "    nfiles = len(fnames)\n",
        "\n",
        "    if nfiles > nframes:\n",
        "        # Select indices for evenly z-spaced images\n",
        "        islices = np.linspace(0, nfiles - 1, num=nframes, dtype=int)\n",
        "\n",
        "        # Load and downsample images\n",
        "        limg = []\n",
        "        for n in islices:\n",
        "            img = io.imread(fnames[n])\n",
        "            img = img[::downsample, ::downsample]\n",
        "            img_downsampled = (img - img.min()) / (img.max() - img.min())\n",
        "            img_downsampled = img_as_ubyte(img_downsampled)\n",
        "            if segmented:\n",
        "                cc = circular_crop(img_downsampled, center, radius)\n",
        "            else:\n",
        "                cc = fastSegmentation(img_downsampled, center, radius)\n",
        "            limg.append(cc)\n",
        "\n",
        "        # Stack the images for animation if not empty\n",
        "        if limg:\n",
        "            vimg = np.stack(limg)\n",
        "        else:\n",
        "            print(\"No images loaded or downsampled images are empty.\")\n",
        "    else:\n",
        "        print('Not enough files - change nframes or provide more files.')\n",
        "    return vimg"
      ]
    },
    {
      "cell_type": "code",
      "execution_count": null,
      "metadata": {
        "id": "OnE-Ng6k1Md2"
      },
      "outputs": [],
      "source": [
        "n = len(files)\n",
        "nKey = n - round(n*0.3) #ignoring bottom slices\n",
        "onlyKeyFiles = files[:nKey]\n",
        "bigLimg = readStack(onlyKeyFiles, downsample=10,nframes=100, center=(102, 102), radius=75)"
      ]
    },
    {
      "cell_type": "code",
      "source": [
        "import tifffile\n",
        "\n",
        "# Save the variable to a TIFF file\n",
        "tifffile.imwrite('checkPointBigLimg.tif', bigLimg)\n",
        "\n",
        "# Read the TIFF file back\n",
        "loaded_bigLimg = tifffile.imread('checkPointBigLimg.tif')\n"
      ],
      "metadata": {
        "id": "M6xT3T4kalkc",
        "colab": {
          "base_uri": "https://localhost:8080/",
          "height": 211
        },
        "outputId": "d122ba50-d15f-496d-9f5d-9fea1661c265"
      },
      "execution_count": 10,
      "outputs": [
        {
          "output_type": "error",
          "ename": "NameError",
          "evalue": "name 'bigLimg' is not defined",
          "traceback": [
            "\u001b[0;31m---------------------------------------------------------------------------\u001b[0m",
            "\u001b[0;31mNameError\u001b[0m                                 Traceback (most recent call last)",
            "\u001b[0;32m<ipython-input-10-e61614963b08>\u001b[0m in \u001b[0;36m<cell line: 4>\u001b[0;34m()\u001b[0m\n\u001b[1;32m      2\u001b[0m \u001b[0;34m\u001b[0m\u001b[0m\n\u001b[1;32m      3\u001b[0m \u001b[0;31m# Save the variable to a TIFF file\u001b[0m\u001b[0;34m\u001b[0m\u001b[0;34m\u001b[0m\u001b[0m\n\u001b[0;32m----> 4\u001b[0;31m \u001b[0mtifffile\u001b[0m\u001b[0;34m.\u001b[0m\u001b[0mimwrite\u001b[0m\u001b[0;34m(\u001b[0m\u001b[0;34m'checkPointBigLimg.tif'\u001b[0m\u001b[0;34m,\u001b[0m \u001b[0mbigLimg\u001b[0m\u001b[0;34m)\u001b[0m\u001b[0;34m\u001b[0m\u001b[0;34m\u001b[0m\u001b[0m\n\u001b[0m\u001b[1;32m      5\u001b[0m \u001b[0;34m\u001b[0m\u001b[0m\n\u001b[1;32m      6\u001b[0m \u001b[0;31m# Read the TIFF file back\u001b[0m\u001b[0;34m\u001b[0m\u001b[0;34m\u001b[0m\u001b[0m\n",
            "\u001b[0;31mNameError\u001b[0m: name 'bigLimg' is not defined"
          ]
        }
      ]
    },
    {
      "cell_type": "code",
      "source": [
        "plt.imshow(bigLimg[0],cmap='gray')"
      ],
      "metadata": {
        "id": "v54eKCDHT8yZ"
      },
      "execution_count": null,
      "outputs": []
    },
    {
      "cell_type": "code",
      "source": [
        "#Visualization"
      ],
      "metadata": {
        "id": "W9JsMdTEbCqJ"
      },
      "execution_count": null,
      "outputs": []
    },
    {
      "cell_type": "code",
      "execution_count": null,
      "metadata": {
        "id": "TKMkEXTs2q3_"
      },
      "outputs": [],
      "source": [
        "!pip install imjoy-elfinder --quiet\n",
        "!pip install imjoy --quiet\n",
        "!pip install -U imjoy-jupyter-extension numpy scikit-image --quiet\n",
        "!pip install itk --quiet\n",
        "!pip install 'itkwidgets>=1.0a23' --quiet\n",
        "\n",
        "import itk\n",
        "from itkwidgets import view"
      ]
    },
    {
      "cell_type": "code",
      "execution_count": null,
      "metadata": {
        "id": "iipJw2No3N_W"
      },
      "outputs": [],
      "source": [
        "viewer = view(bigLimg, slicing_planes=True)\n",
        "viewer"
      ]
    }
  ],
  "metadata": {
    "colab": {
      "provenance": [],
      "toc_visible": true
    },
    "kernelspec": {
      "display_name": "Python 3",
      "language": "python",
      "name": "python3"
    },
    "language_info": {
      "codemirror_mode": {
        "name": "ipython",
        "version": 3
      },
      "file_extension": ".py",
      "mimetype": "text/x-python",
      "name": "python",
      "nbconvert_exporter": "python",
      "pygments_lexer": "ipython3",
      "version": "3.7.7"
    },
    "toc": {
      "base_numbering": 1,
      "nav_menu": {},
      "number_sections": true,
      "sideBar": true,
      "skip_h1_title": false,
      "title_cell": "Table of Contents",
      "title_sidebar": "Contents",
      "toc_cell": false,
      "toc_position": {},
      "toc_section_display": true,
      "toc_window_display": false
    }
  },
  "nbformat": 4,
  "nbformat_minor": 0
}